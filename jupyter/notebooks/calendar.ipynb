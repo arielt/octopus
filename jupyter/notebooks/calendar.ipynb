{
 "cells": [
  {
   "cell_type": "markdown",
   "id": "1066ad9f-45f3-4a63-a791-c59be1c73a8e",
   "metadata": {},
   "source": [
    "# Calendar\n",
    "Initial calendar notebook."
   ]
  },
  {
   "cell_type": "markdown",
   "id": "6b4a172c-6dc2-4988-bf14-64078e6f2eeb",
   "metadata": {},
   "source": [
    "## Google calendar\n",
    "Sample google calendar dataframe."
   ]
  },
  {
   "cell_type": "code",
   "execution_count": null,
   "id": "194522f2-5bec-4f40-aafc-04547bd6f3a1",
   "metadata": {},
   "outputs": [],
   "source": [
    "ls data"
   ]
  },
  {
   "cell_type": "code",
   "execution_count": null,
   "id": "78e14a73-dd07-4383-ab79-38b66453ad87",
   "metadata": {},
   "outputs": [],
   "source": [
    "import pandas as pd\n",
    "\n",
    "# Load data from a CSV file\n",
    "df = pd.read_csv('data/calendar_df_1.csv')\n",
    "\n",
    "display(df)"
   ]
  },
  {
   "cell_type": "code",
   "execution_count": null,
   "id": "bba0af16-1f98-42c9-b1b7-5f336d26cc46",
   "metadata": {},
   "outputs": [],
   "source": []
  },
  {
   "cell_type": "code",
   "execution_count": null,
   "id": "c9bef0aa-b428-403b-875a-1ded7be5ade1",
   "metadata": {},
   "outputs": [],
   "source": []
  }
 ],
 "metadata": {
  "kernelspec": {
   "display_name": "Python 3 (ipykernel)",
   "language": "python",
   "name": "python3"
  },
  "language_info": {
   "codemirror_mode": {
    "name": "ipython",
    "version": 3
   },
   "file_extension": ".py",
   "mimetype": "text/x-python",
   "name": "python",
   "nbconvert_exporter": "python",
   "pygments_lexer": "ipython3",
   "version": "3.11.4"
  }
 },
 "nbformat": 4,
 "nbformat_minor": 5
}
